{
 "cells": [
  {
   "cell_type": "markdown",
   "metadata": {},
   "source": [
    "# Predict rain based on other weather variables"
   ]
  },
  {
   "cell_type": "markdown",
   "metadata": {},
   "source": [
    "This notebook will use time lags to train a machine learning model for predicting rain (precipitation). \n",
    "\n",
    "First, we select a random station. The data is kept at daily resolution. Then, we generate a lagged feature matrix."
   ]
  },
  {
   "cell_type": "code",
   "execution_count": 1,
   "metadata": {},
   "outputs": [],
   "source": [
    "import pandas as pd\n",
    "import numpy as np\n",
    "from numpy.random import randint\n",
    "from sklearn.preprocessing import MinMaxScaler\n",
    "from sklearn.model_selection import train_test_split\n",
    "from sklearn.ensemble import RandomForestRegressor\n",
    "import matplotlib.pyplot as plt\n",
    "import matplotlib.dates as mdates\n",
    "import time"
   ]
  },
  {
   "cell_type": "code",
   "execution_count": 2,
   "metadata": {},
   "outputs": [],
   "source": [
    "from pandas.plotting import register_matplotlib_converters\n",
    "register_matplotlib_converters()"
   ]
  },
  {
   "cell_type": "code",
   "execution_count": 4,
   "metadata": {},
   "outputs": [
    {
     "name": "stdout",
     "output_type": "stream",
     "text": [
      "15.130345106124878\n",
      "Wall time: 15.1 s\n"
     ]
    }
   ],
   "source": [
    "%%time\n",
    "data_dir = './datasets/NOAA_SST/'\n",
    "#load(data_dir + “noaa_gsod/…/file”\n",
    "t0 = time.time()\n",
    "data = pd.read_pickle(data_dir+'noaa_gsod/Combined_noaa_gsod') # load weather data\n",
    "stations = pd.read_pickle(data_dir+'noaa_gsod.stations') # load station data\n",
    "\n",
    "# # USE ONLY 2008-2018 # #\n",
    "data = data.loc[data.index >= pd.Timestamp(2008, 1, 1)]\n",
    "data = data.drop(columns=['yr','year','da','mo']) # don't need these anymore\n",
    "print(time.time()-t0)"
   ]
  },
  {
   "cell_type": "code",
   "execution_count": 5,
   "metadata": {},
   "outputs": [
    {
     "data": {
      "text/html": [
       "<div>\n",
       "<style scoped>\n",
       "    .dataframe tbody tr th:only-of-type {\n",
       "        vertical-align: middle;\n",
       "    }\n",
       "\n",
       "    .dataframe tbody tr th {\n",
       "        vertical-align: top;\n",
       "    }\n",
       "\n",
       "    .dataframe thead th {\n",
       "        text-align: right;\n",
       "    }\n",
       "</style>\n",
       "<table border=\"1\" class=\"dataframe\">\n",
       "  <thead>\n",
       "    <tr style=\"text-align: right;\">\n",
       "      <th></th>\n",
       "      <th>usaf</th>\n",
       "      <th>wban</th>\n",
       "      <th>name</th>\n",
       "      <th>country</th>\n",
       "      <th>state</th>\n",
       "      <th>call</th>\n",
       "      <th>lat</th>\n",
       "      <th>lon</th>\n",
       "      <th>elev</th>\n",
       "      <th>begin</th>\n",
       "      <th>end</th>\n",
       "    </tr>\n",
       "  </thead>\n",
       "  <tbody>\n",
       "    <tr>\n",
       "      <th>5946</th>\n",
       "      <td>712220</td>\n",
       "      <td>99999</td>\n",
       "      <td>DEASE LAKE (AUT)</td>\n",
       "      <td>CA</td>\n",
       "      <td>None</td>\n",
       "      <td>CWKX</td>\n",
       "      <td>58.433</td>\n",
       "      <td>-130.033</td>\n",
       "      <td>+0802.0</td>\n",
       "      <td>19930829</td>\n",
       "      <td>20190326</td>\n",
       "    </tr>\n",
       "  </tbody>\n",
       "</table>\n",
       "</div>"
      ],
      "text/plain": [
       "        usaf   wban                           name country state  call  \\\n",
       "5946  712220  99999  DEASE LAKE (AUT)                   CA  None  CWKX   \n",
       "\n",
       "         lat      lon     elev     begin       end  \n",
       "5946  58.433 -130.033  +0802.0  19930829  20190326  "
      ]
     },
     "execution_count": 5,
     "metadata": {},
     "output_type": "execute_result"
    }
   ],
   "source": [
    "# # SELECT RANDOM STATION # #\n",
    "np.random.seed(3)\n",
    "rs = np.unique(data['stn'].values) # find unique stations with data\n",
    "rand_stat = rs[randint(len(rs))] # pick a random station\n",
    "\n",
    "# # ideally we should check < len(np.unique(data.index)), but many are shorter\n",
    "while (len(data.loc[data['stn'] == rand_stat]) < 3650): # If not enough data\n",
    "    if len(stations.loc[stations['usaf'] == rand_stat]): # If station info available\n",
    "        if (stations.loc[stations['usaf'] == rand_stat].iloc[0]['wban'] != '99999'): # If station number not unique\n",
    "            rand_stat = rs[randint(len(rs))] # get a new station\n",
    "    else:\n",
    "        rand_stat = rs[randint(len(rs))] # get a new station\n",
    "\n",
    "select_station = stations.loc[stations['usaf'] == rand_stat] # get location, etc, for random station\n",
    "\n",
    "features = data.loc[data['stn'] == rand_stat] # pick weather at random station\n",
    "features = features.drop(columns='stn')\n",
    "features = features.sort_index()\n",
    "select_station.head() # see where it is"
   ]
  },
  {
   "cell_type": "code",
   "execution_count": 6,
   "metadata": {},
   "outputs": [
    {
     "data": {
      "text/plain": [
       "(3929, 7)"
      ]
     },
     "execution_count": 6,
     "metadata": {},
     "output_type": "execute_result"
    }
   ],
   "source": [
    "features.shape"
   ]
  },
  {
   "cell_type": "markdown",
   "metadata": {},
   "source": [
    "### Time-shift the data"
   ]
  },
  {
   "cell_type": "code",
   "execution_count": 7,
   "metadata": {},
   "outputs": [
    {
     "name": "stdout",
     "output_type": "stream",
     "text": [
      "3926 samples, 28 features.\n"
     ]
    },
    {
     "data": {
      "text/html": [
       "<div>\n",
       "<style scoped>\n",
       "    .dataframe tbody tr th:only-of-type {\n",
       "        vertical-align: middle;\n",
       "    }\n",
       "\n",
       "    .dataframe tbody tr th {\n",
       "        vertical-align: top;\n",
       "    }\n",
       "\n",
       "    .dataframe thead th {\n",
       "        text-align: right;\n",
       "    }\n",
       "</style>\n",
       "<table border=\"1\" class=\"dataframe\">\n",
       "  <thead>\n",
       "    <tr style=\"text-align: right;\">\n",
       "      <th></th>\n",
       "      <th>temp</th>\n",
       "      <th>slp</th>\n",
       "      <th>wdsp</th>\n",
       "      <th>mxpsd</th>\n",
       "      <th>max</th>\n",
       "      <th>min</th>\n",
       "      <th>prcp</th>\n",
       "      <th>temp_lag1</th>\n",
       "      <th>temp_lag2</th>\n",
       "      <th>temp_lag3</th>\n",
       "      <th>...</th>\n",
       "      <th>mxpsd_lag3</th>\n",
       "      <th>max_lag1</th>\n",
       "      <th>max_lag2</th>\n",
       "      <th>max_lag3</th>\n",
       "      <th>min_lag1</th>\n",
       "      <th>min_lag2</th>\n",
       "      <th>min_lag3</th>\n",
       "      <th>prcp_lag1</th>\n",
       "      <th>prcp_lag2</th>\n",
       "      <th>prcp_lag3</th>\n",
       "    </tr>\n",
       "    <tr>\n",
       "      <th>Datetime</th>\n",
       "      <th></th>\n",
       "      <th></th>\n",
       "      <th></th>\n",
       "      <th></th>\n",
       "      <th></th>\n",
       "      <th></th>\n",
       "      <th></th>\n",
       "      <th></th>\n",
       "      <th></th>\n",
       "      <th></th>\n",
       "      <th></th>\n",
       "      <th></th>\n",
       "      <th></th>\n",
       "      <th></th>\n",
       "      <th></th>\n",
       "      <th></th>\n",
       "      <th></th>\n",
       "      <th></th>\n",
       "      <th></th>\n",
       "      <th></th>\n",
       "      <th></th>\n",
       "    </tr>\n",
       "  </thead>\n",
       "  <tbody>\n",
       "    <tr>\n",
       "      <th>2008-01-04</th>\n",
       "      <td>9.5</td>\n",
       "      <td>982.6</td>\n",
       "      <td>2.4</td>\n",
       "      <td>5.8</td>\n",
       "      <td>12.7</td>\n",
       "      <td>2.5</td>\n",
       "      <td>0.08</td>\n",
       "      <td>5.5</td>\n",
       "      <td>0.0</td>\n",
       "      <td>-1.7</td>\n",
       "      <td>...</td>\n",
       "      <td>4.9</td>\n",
       "      <td>10.4</td>\n",
       "      <td>10.4</td>\n",
       "      <td>10.4</td>\n",
       "      <td>3.2</td>\n",
       "      <td>-7.6</td>\n",
       "      <td>-13.2</td>\n",
       "      <td>0.00</td>\n",
       "      <td>0.00</td>\n",
       "      <td>0.00</td>\n",
       "    </tr>\n",
       "    <tr>\n",
       "      <th>2008-01-05</th>\n",
       "      <td>6.6</td>\n",
       "      <td>978.9</td>\n",
       "      <td>2.2</td>\n",
       "      <td>4.9</td>\n",
       "      <td>15.8</td>\n",
       "      <td>-2.2</td>\n",
       "      <td>0.03</td>\n",
       "      <td>9.5</td>\n",
       "      <td>5.5</td>\n",
       "      <td>0.0</td>\n",
       "      <td>...</td>\n",
       "      <td>7.0</td>\n",
       "      <td>12.7</td>\n",
       "      <td>10.4</td>\n",
       "      <td>10.4</td>\n",
       "      <td>2.5</td>\n",
       "      <td>3.2</td>\n",
       "      <td>-7.6</td>\n",
       "      <td>0.08</td>\n",
       "      <td>0.00</td>\n",
       "      <td>0.00</td>\n",
       "    </tr>\n",
       "    <tr>\n",
       "      <th>2008-01-06</th>\n",
       "      <td>11.4</td>\n",
       "      <td>987.0</td>\n",
       "      <td>2.8</td>\n",
       "      <td>5.8</td>\n",
       "      <td>15.8</td>\n",
       "      <td>0.7</td>\n",
       "      <td>0.12</td>\n",
       "      <td>6.6</td>\n",
       "      <td>9.5</td>\n",
       "      <td>5.5</td>\n",
       "      <td>...</td>\n",
       "      <td>7.0</td>\n",
       "      <td>15.8</td>\n",
       "      <td>12.7</td>\n",
       "      <td>10.4</td>\n",
       "      <td>-2.2</td>\n",
       "      <td>2.5</td>\n",
       "      <td>3.2</td>\n",
       "      <td>0.03</td>\n",
       "      <td>0.08</td>\n",
       "      <td>0.00</td>\n",
       "    </tr>\n",
       "    <tr>\n",
       "      <th>2008-01-07</th>\n",
       "      <td>-7.3</td>\n",
       "      <td>1005.2</td>\n",
       "      <td>3.7</td>\n",
       "      <td>7.0</td>\n",
       "      <td>13.3</td>\n",
       "      <td>-15.2</td>\n",
       "      <td>0.00</td>\n",
       "      <td>11.4</td>\n",
       "      <td>6.6</td>\n",
       "      <td>9.5</td>\n",
       "      <td>...</td>\n",
       "      <td>5.8</td>\n",
       "      <td>15.8</td>\n",
       "      <td>15.8</td>\n",
       "      <td>12.7</td>\n",
       "      <td>0.7</td>\n",
       "      <td>-2.2</td>\n",
       "      <td>2.5</td>\n",
       "      <td>0.12</td>\n",
       "      <td>0.03</td>\n",
       "      <td>0.08</td>\n",
       "    </tr>\n",
       "    <tr>\n",
       "      <th>2008-01-08</th>\n",
       "      <td>-8.9</td>\n",
       "      <td>1005.8</td>\n",
       "      <td>5.3</td>\n",
       "      <td>9.9</td>\n",
       "      <td>-3.5</td>\n",
       "      <td>-15.2</td>\n",
       "      <td>0.00</td>\n",
       "      <td>-7.3</td>\n",
       "      <td>11.4</td>\n",
       "      <td>6.6</td>\n",
       "      <td>...</td>\n",
       "      <td>4.9</td>\n",
       "      <td>13.3</td>\n",
       "      <td>15.8</td>\n",
       "      <td>15.8</td>\n",
       "      <td>-15.2</td>\n",
       "      <td>0.7</td>\n",
       "      <td>-2.2</td>\n",
       "      <td>0.00</td>\n",
       "      <td>0.12</td>\n",
       "      <td>0.03</td>\n",
       "    </tr>\n",
       "  </tbody>\n",
       "</table>\n",
       "<p>5 rows × 28 columns</p>\n",
       "</div>"
      ],
      "text/plain": [
       "            temp     slp  wdsp  mxpsd   max   min  prcp  temp_lag1  temp_lag2  \\\n",
       "Datetime                                                                        \n",
       "2008-01-04   9.5   982.6   2.4    5.8  12.7   2.5  0.08        5.5        0.0   \n",
       "2008-01-05   6.6   978.9   2.2    4.9  15.8  -2.2  0.03        9.5        5.5   \n",
       "2008-01-06  11.4   987.0   2.8    5.8  15.8   0.7  0.12        6.6        9.5   \n",
       "2008-01-07  -7.3  1005.2   3.7    7.0  13.3 -15.2  0.00       11.4        6.6   \n",
       "2008-01-08  -8.9  1005.8   5.3    9.9  -3.5 -15.2  0.00       -7.3       11.4   \n",
       "\n",
       "            temp_lag3  ...  mxpsd_lag3  max_lag1  max_lag2  max_lag3  \\\n",
       "Datetime               ...                                             \n",
       "2008-01-04       -1.7  ...         4.9      10.4      10.4      10.4   \n",
       "2008-01-05        0.0  ...         7.0      12.7      10.4      10.4   \n",
       "2008-01-06        5.5  ...         7.0      15.8      12.7      10.4   \n",
       "2008-01-07        9.5  ...         5.8      15.8      15.8      12.7   \n",
       "2008-01-08        6.6  ...         4.9      13.3      15.8      15.8   \n",
       "\n",
       "            min_lag1  min_lag2  min_lag3  prcp_lag1  prcp_lag2  prcp_lag3  \n",
       "Datetime                                                                   \n",
       "2008-01-04       3.2      -7.6     -13.2       0.00       0.00       0.00  \n",
       "2008-01-05       2.5       3.2      -7.6       0.08       0.00       0.00  \n",
       "2008-01-06      -2.2       2.5       3.2       0.03       0.08       0.00  \n",
       "2008-01-07       0.7      -2.2       2.5       0.12       0.03       0.08  \n",
       "2008-01-08     -15.2       0.7      -2.2       0.00       0.12       0.03  \n",
       "\n",
       "[5 rows x 28 columns]"
      ]
     },
     "execution_count": 7,
     "metadata": {},
     "output_type": "execute_result"
    }
   ],
   "source": [
    "columns = features.columns # weather variables\n",
    "for co in columns:\n",
    "    # one day lag\n",
    "    features[co + '_lag1'] = features[co].shift(periods=1)\n",
    "    \n",
    "    # two days lag\n",
    "    features[co + '_lag2'] = features[co].shift(periods=2)\n",
    "    \n",
    "    # three days lag\n",
    "    features[co + '_lag3'] = features[co].shift(periods=3)\n",
    "features = features.iloc[3:]\n",
    "print(str(len(features)) + ' samples, ' + str(len(features.columns)) + ' features.')\n",
    "features.head()"
   ]
  },
  {
   "cell_type": "markdown",
   "metadata": {},
   "source": [
    "### Create train/val/test"
   ]
  },
  {
   "cell_type": "code",
   "execution_count": 8,
   "metadata": {},
   "outputs": [],
   "source": [
    "ylabel = features['prcp'] # use today's precipitation as the label\n",
    "features = features.drop(columns='prcp') # don't put it in training data!!\n",
    "\n",
    "# Use 20% test split (80% training + validation)\n",
    "ntrain = int(len(features)*0.8)\n",
    "x_test = features.iloc[ntrain:,:]\n",
    "y_test = ylabel[ntrain:]\n",
    "indices = np.arange(ntrain)\n",
    "\n",
    "\n",
    "# Split remaining 80% into training-validation sets by 60%/20% (of original data)\n",
    "x_train, x_val, y_train, y_val, idx1, idx2 = train_test_split(features.iloc[0:ntrain,:], ylabel[0:ntrain], \\\n",
    "                                                   indices, test_size=0.2, random_state=1)\n",
    "\n",
    "# # Scale features. Fit scaler on training only.\n",
    "scaler = MinMaxScaler() #scale features between 0 and 1\n",
    "x_train = scaler.fit_transform(x_train)\n",
    "x_val = scaler.transform(x_val)\n",
    "x_test = scaler.transform(x_test)"
   ]
  },
  {
   "cell_type": "markdown",
   "metadata": {},
   "source": [
    "### Predict with Random Forest"
   ]
  },
  {
   "cell_type": "code",
   "execution_count": 9,
   "metadata": {},
   "outputs": [
    {
     "data": {
      "text/plain": [
       "3140"
      ]
     },
     "execution_count": 9,
     "metadata": {},
     "output_type": "execute_result"
    }
   ],
   "source": [
    "int(len(features)*.8)"
   ]
  },
  {
   "cell_type": "code",
   "execution_count": 10,
   "metadata": {},
   "outputs": [],
   "source": [
    "# # Create, train, and predict random forest here # #\n",
    "\n",
    "\n",
    "\n"
   ]
  },
  {
   "cell_type": "markdown",
   "metadata": {},
   "source": [
    "### Plot random forest"
   ]
  },
  {
   "cell_type": "code",
   "execution_count": 11,
   "metadata": {},
   "outputs": [
    {
     "ename": "NameError",
     "evalue": "name 'y' is not defined",
     "output_type": "error",
     "traceback": [
      "\u001b[1;31m---------------------------------------------------------------------------\u001b[0m",
      "\u001b[1;31mNameError\u001b[0m                                 Traceback (most recent call last)",
      "\u001b[1;32m<ipython-input-11-9433036afd82>\u001b[0m in \u001b[0;36m<module>\u001b[1;34m\u001b[0m\n\u001b[0;32m      3\u001b[0m \u001b[0mplt\u001b[0m\u001b[1;33m.\u001b[0m\u001b[0msubplot\u001b[0m\u001b[1;33m(\u001b[0m\u001b[1;36m1\u001b[0m\u001b[1;33m,\u001b[0m\u001b[1;36m2\u001b[0m\u001b[1;33m,\u001b[0m\u001b[1;36m1\u001b[0m\u001b[1;33m)\u001b[0m\u001b[1;33m\u001b[0m\u001b[1;33m\u001b[0m\u001b[0m\n\u001b[0;32m      4\u001b[0m \u001b[0mplt\u001b[0m\u001b[1;33m.\u001b[0m\u001b[0mplot\u001b[0m\u001b[1;33m(\u001b[0m\u001b[0mfeatures\u001b[0m\u001b[1;33m.\u001b[0m\u001b[0miloc\u001b[0m\u001b[1;33m[\u001b[0m\u001b[0mntrain\u001b[0m\u001b[1;33m:\u001b[0m\u001b[1;33m]\u001b[0m\u001b[1;33m.\u001b[0m\u001b[0mindex\u001b[0m\u001b[1;33m,\u001b[0m \u001b[0my_test\u001b[0m\u001b[1;33m)\u001b[0m \u001b[1;31m# plot actual precipitation\u001b[0m\u001b[1;33m\u001b[0m\u001b[1;33m\u001b[0m\u001b[0m\n\u001b[1;32m----> 5\u001b[1;33m \u001b[0mplt\u001b[0m\u001b[1;33m.\u001b[0m\u001b[0mplot\u001b[0m\u001b[1;33m(\u001b[0m\u001b[0mfeatures\u001b[0m\u001b[1;33m.\u001b[0m\u001b[0miloc\u001b[0m\u001b[1;33m[\u001b[0m\u001b[0mntrain\u001b[0m\u001b[1;33m:\u001b[0m\u001b[1;33m]\u001b[0m\u001b[1;33m.\u001b[0m\u001b[0mindex\u001b[0m\u001b[1;33m,\u001b[0m \u001b[0my\u001b[0m\u001b[1;33m)\u001b[0m \u001b[1;31m# plot predicted precipitation, y is the prediction results on testing data\u001b[0m\u001b[1;33m\u001b[0m\u001b[1;33m\u001b[0m\u001b[0m\n\u001b[0m\u001b[0;32m      6\u001b[0m \u001b[1;33m\u001b[0m\u001b[0m\n\u001b[0;32m      7\u001b[0m \u001b[1;33m\u001b[0m\u001b[0m\n",
      "\u001b[1;31mNameError\u001b[0m: name 'y' is not defined"
     ]
    },
    {
     "data": {
      "image/png": "[encoded data removed]",
      "text/plain": [
       "<Figure size 1080x504 with 1 Axes>"
      ]
     },
     "metadata": {
      "needs_background": "light"
     },
     "output_type": "display_data"
    }
   ],
   "source": [
    "# plot predictions\n",
    "plt.figure(figsize=(15,7))\n",
    "plt.subplot(1,2,1)\n",
    "plt.plot(features.iloc[ntrain:].index, y_test) # plot actual precipitation\n",
    "plt.plot(features.iloc[ntrain:].index, y) # plot predicted precipitation, y is the prediction results on testing data\n",
    "\n",
    "\n",
    "# # PLOT TRAINING DATA HERE # #\n",
    "\n",
    "\n",
    "\n",
    "\n",
    "\n",
    "# # INCREASE X TICK SPACING, UPDATE LEGEND # #\n",
    "plt.xticks(features.index[::182], rotation = 45) # X-Ticks are spaced once every 30 days. \n",
    "myFmt = mdates.DateFormatter('%b-%y') # This shows day-month-year. Switch to month-year or annually\n",
    "\n",
    "plt.gca().xaxis.set_major_formatter(myFmt)\n",
    "plt.ylabel('Daily Precipitation (inches)', fontsize=12)\n",
    "plt.legend(('Test Label','Test Prediction','Train Label','Train Prediction'), fontsize=12, loc=1)\n",
    "#plt.show()\n",
    "\n",
    "# # Plot the feature importances # #\n",
    "nfeatures = 10\n",
    "fi = regr.feature_importances_ # get feature importances, regr is the regressor\n",
    "fi_sort = np.argsort(fi)[::-1] # sort importances most to least\n",
    "plt.subplot(1,2,2)\n",
    "plt.bar(range(nfeatures), fi[fi_sort[0:nfeatures]], width=1, \\\n",
    "        tick_label=features.columns.values[fi_sort[0:nfeatures]]) # plot features importances\n",
    "plt.ylabel('Feature Importance (avg across trees)', fontsize=12)\n",
    "plt.xticks(rotation = 45)\n",
    "plt.show()"
   ]
  },
  {
   "cell_type": "markdown",
   "metadata": {},
   "source": [
    "### Feature importance is the weighted impurity of a branch adjusted by its children nodes and normalized by the impurities of all branches. The Random Forest feature importances are averaged over all regression trees."
   ]
  },
  {
   "cell_type": "code",
   "execution_count": null,
   "metadata": {},
   "outputs": [],
   "source": []
  }
 ],
 "metadata": {
  "kernelspec": {
   "display_name": "Python 3",
   "language": "python",
   "name": "python3"
  },
  "language_info": {
   "codemirror_mode": {
    "name": "ipython",
    "version": 3
   },
   "file_extension": ".py",
   "mimetype": "text/x-python",
   "name": "python",
   "nbconvert_exporter": "python",
   "pygments_lexer": "ipython3",
   "version": "3.7.3"
  }
 },
 "nbformat": 4,
 "nbformat_minor": 2
}
